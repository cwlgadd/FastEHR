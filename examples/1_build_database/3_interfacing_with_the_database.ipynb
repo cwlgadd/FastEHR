{
 "cells": [
  {
   "cell_type": "markdown",
   "id": "3f58899f-4329-4fff-b4cb-cf80a4e7a4e4",
   "metadata": {},
   "source": [
    "# Using the Collector class to interface with the SQLite tables"
   ]
  },
  {
   "cell_type": "code",
   "execution_count": 1,
   "id": "d9c70662-7dcf-4a1f-a343-8afd16a58be6",
   "metadata": {},
   "outputs": [
    {
     "name": "stdout",
     "output_type": "stream",
     "text": [
      "/home/ubuntu/Documents/GitHub/SurvivEHR/FastEHR/examples/1_build_database\n"
     ]
    }
   ],
   "source": [
    "import os\n",
    "import logging\n",
    "import time\n",
    "\n",
    "from FastEHR.database import SQLiteDataCollector\n",
    "\n",
    "logging.basicConfig(level=logging.INFO)\n",
    "\n",
    "!pwd\n",
    "\n",
    "%load_ext autoreload\n",
    "%autoreload 2"
   ]
  },
  {
   "cell_type": "markdown",
   "id": "a0433edc-2779-468c-9d78-94ceea5fa53e",
   "metadata": {},
   "source": [
    "# Paths to example dataset and location to save generated database"
   ]
  },
  {
   "cell_type": "code",
   "execution_count": 2,
   "id": "ff00f74b-f1a5-43d3-8e28-6c302d43b88e",
   "metadata": {},
   "outputs": [
    {
     "name": "stdout",
     "output_type": "stream",
     "text": [
      "Saving databse to /home/ubuntu/Documents/GitHub/SurvivEHR/FastEHR/examples/1_build_database/../data/_built/example_database.db\n"
     ]
    }
   ],
   "source": [
    "path_to_directory = os.getcwd() + \"/../data/\"\n",
    "PATH_TO_DB = os.getcwd() + \"/../data/_built/example_database.db\"\n",
    "print(f\"Saving databse to {PATH_TO_DB}\")\n",
    "\n",
    "load = False\n",
    "if load:\n",
    "    logging.warning(f\"Load is true, if you want to re-build database set to False\")"
   ]
  },
  {
   "cell_type": "markdown",
   "id": "577e85f8-dc0f-40a2-8fd3-e528f348a1bd",
   "metadata": {},
   "source": [
    "# Connecting to the SQLite database"
   ]
  },
  {
   "cell_type": "code",
   "execution_count": 3,
   "id": "0bec42cf-43b0-4748-bbd5-bda2c8bc56e5",
   "metadata": {},
   "outputs": [],
   "source": [
    "collector = SQLiteDataCollector(db_path=PATH_TO_DB)\n",
    "collector.connect()"
   ]
  },
  {
   "cell_type": "markdown",
   "id": "afd6639e-30b9-453a-a1a2-b5888a77ab3f",
   "metadata": {},
   "source": [
    "# Running open queries"
   ]
  },
  {
   "cell_type": "markdown",
   "id": "b453ef8c-7ca1-4626-aa90-36ac3976f223",
   "metadata": {},
   "source": [
    "When we built the database, we created different tables"
   ]
  },
  {
   "cell_type": "code",
   "execution_count": 4,
   "id": "436c1363-f2cc-438d-a525-1faad83e21c0",
   "metadata": {},
   "outputs": [
    {
     "name": "stdout",
     "output_type": "stream",
     "text": [
      "('static_table',)\n",
      "('diagnosis_table',)\n",
      "('measurement_25_Hydroxyvitamin_D2_level_92_',)\n"
     ]
    }
   ],
   "source": [
    "collector.cursor.execute(\"\"\"SELECT name FROM sqlite_master WHERE type='table';\"\"\")   # \n",
    "results = collector.cursor.fetchall()\n",
    "for result in results:\n",
    "    print(result)"
   ]
  },
  {
   "cell_type": "markdown",
   "id": "f570bbb9-aa1e-4eac-aa4c-1ecaa398bbbe",
   "metadata": {},
   "source": [
    "We can perform open queries on any of the database tables"
   ]
  },
  {
   "cell_type": "code",
   "execution_count": 5,
   "id": "5c3c59f9-fd33-42a1-b4c8-d816d5731caf",
   "metadata": {},
   "outputs": [
    {
     "name": "stdout",
     "output_type": "stream",
     "text": [
      "(20960, 1, 'MISSING', '1940-07-15', 'M', 'E', 1, 'South East', '2008-07-23', '2008-07-23', '2022-03-17')\n",
      "(20961, 2, 'WHITE', '1940-07-21', 'M', 'E', 1, 'North West', '2008-07-29', '2008-07-29', '2022-03-23')\n",
      "(20962, 3, 'MIXED', '1940-07-27', 'M', 'E', 1, 'South East', '2008-08-04', '2008-08-04', '2022-03-29')\n",
      "(20963, 4, 'ASIAN', '1940-08-02', 'M', 'E', 1, 'West Midlands', '2008-08-10', '2008-08-10', '2022-04-04')\n",
      "(20964, 5, 'BLACK', '1940-08-08', 'M', 'E', 1, 'South East', '2008-08-16', '2008-08-16', '2022-04-10')\n",
      "(20966, 1, 'MISSING', '1940-08-14', 'M', 'E', 1, 'West Midlands', '2008-08-22', '2008-08-22', '2022-04-16')\n",
      "(20967, 2, 'WHITE', '1940-08-20', 'M', 'E', 1, 'South East', '2008-08-28', '2008-08-28', '2022-04-22')\n",
      "(20968, 3, 'MIXED', '1940-08-26', 'M', 'E', 1, 'West Midlands', '2008-09-03', '2008-09-03', '2022-04-28')\n",
      "(20969, 4, 'ASIAN', '1940-09-01', 'M', 'E', 1, 'South East', '2008-09-09', '2008-09-09', '2022-05-04')\n",
      "(20970, 5, 'BLACK', '1940-09-07', 'M', 'E', 1, 'West Midlands', '2008-09-15', '2008-09-15', '2022-05-10')\n"
     ]
    }
   ],
   "source": [
    "collector.cursor.execute(\"\"\"SELECT * FROM static_table WHERE sex=='M' AND imd=='1' LIMIT 10\"\"\")   # \n",
    "results = collector.cursor.fetchall()\n",
    "for result in results:\n",
    "    print(result)"
   ]
  },
  {
   "cell_type": "code",
   "execution_count": 6,
   "id": "372522e4-efe5-4c4e-8874-1852c3a9aaee",
   "metadata": {},
   "outputs": [
    {
     "name": "stdout",
     "output_type": "stream",
     "text": [
      "(20960, 4, 'AF', '1992-06-12')\n",
      "(20965, 4, 'AF', '1992-06-13')\n",
      "(20968, 4, 'AF', '1992-06-14')\n",
      "(20972, 1, 'AF', '1992-06-15')\n",
      "(20974, 5, 'AF', '1992-06-16')\n",
      "(20979, 1, 'AF', '1992-06-17')\n"
     ]
    }
   ],
   "source": [
    "collector.cursor.execute(\"\"\"SELECT * FROM diagnosis_table WHERE event=='AF' LIMIT 10\"\"\")   # measurement_ACE_Inhibitors_D2T\n",
    "results = collector.cursor.fetchall()\n",
    "for result in results:\n",
    "    print(result)"
   ]
  },
  {
   "cell_type": "markdown",
   "id": "4078ac19-6b7e-40e4-98f2-73278176d99d",
   "metadata": {},
   "source": [
    "TODO: measurement example tables dont contain data, so no tables were built"
   ]
  },
  {
   "cell_type": "code",
   "execution_count": 7,
   "id": "85bb32fe-9be6-4542-aa4a-d208a5ffc8f3",
   "metadata": {},
   "outputs": [
    {
     "name": "stdout",
     "output_type": "stream",
     "text": [
      "(20960, 1, '25_Hydroxyvitamin_D2_level_92_', None, ' 2001-08-01')\n",
      "(20960, 1, '25_Hydroxyvitamin_D2_level_92_', 10.0, ' 2001-08-02')\n",
      "(20960, 1, '25_Hydroxyvitamin_D2_level_92_', None, ' 2001-08-03')\n",
      "(20960, 2, '25_Hydroxyvitamin_D2_level_92_', None, ' 2001-08-15')\n"
     ]
    }
   ],
   "source": [
    "collector.cursor.execute(\"\"\"SELECT * FROM measurement_25_Hydroxyvitamin_D2_level_92_ LIMIT 10\"\"\")   # measurement_ACE_Inhibitors_D2T\n",
    "results = collector.cursor.fetchall()\n",
    "for result in results:\n",
    "    print(result)"
   ]
  },
  {
   "cell_type": "markdown",
   "id": "d277d6f2-79d5-491c-834a-e40557835892",
   "metadata": {},
   "source": [
    "# TODO: add examples on all of the other collector functionality\n",
    "\n",
    "These methods are used internally when building a Dataset"
   ]
  },
  {
   "cell_type": "markdown",
   "id": "cf46daac-f30d-415a-b4f8-00b48d485ab8",
   "metadata": {},
   "source": [
    "## Extracting distinct values\n",
    "\n",
    "For example, this can be patient identifiers to determine chunking"
   ]
  },
  {
   "cell_type": "code",
   "execution_count": 8,
   "id": "6e73864a-ed6a-49e1-859e-88c62414c770",
   "metadata": {},
   "outputs": [
    {
     "data": {
      "text/plain": [
       "[20960, 20961, 20962, 20963, 20964]"
      ]
     },
     "execution_count": 8,
     "metadata": {},
     "output_type": "execute_result"
    }
   ],
   "source": [
    "collector._extract_distinct([\"static_table\", \"diagnosis_table\"], \"PRACTICE_ID\")[:5]"
   ]
  },
  {
   "cell_type": "markdown",
   "id": "c2f34b6d-3c27-4681-8303-13b7259e59ad",
   "metadata": {},
   "source": [
    "# Collecting meta information"
   ]
  },
  {
   "cell_type": "code",
   "execution_count": 9,
   "id": "1cf67f2e-2990-41ba-b141-42290bca3719",
   "metadata": {},
   "outputs": [
    {
     "name": "stderr",
     "output_type": "stream",
     "text": [
      "INFO:root:\n",
      "\n",
      "Collecting meta information from database. This will be used for tokenization and (optionally) standardisation.\n",
      "INFO:root:\t Static meta information\n",
      "INFO:root:\t Diagnosis meta information\n",
      "INFO:root:\t Measurements meta information\n",
      "                                      Measurements: 100%|█| 1/1 [00:00<00:00, 14\n"
     ]
    },
    {
     "data": {
      "text/plain": [
       "{'static_table': {'SEX':   category  count\n",
       "  0        F     33\n",
       "  1        I     33\n",
       "  2        M     34,\n",
       "  'IMD':    category  count\n",
       "  0       NaN     16\n",
       "  1       1.0     17\n",
       "  2       2.0     17\n",
       "  3       3.0     17\n",
       "  4       4.0     17\n",
       "  5       5.0     16,\n",
       "  'ETHNICITY':   category  count\n",
       "  0    ASIAN     20\n",
       "  1    BLACK     20\n",
       "  2  MISSING     20\n",
       "  3    MIXED     20\n",
       "  4    WHITE     20},\n",
       " 'diagnosis_table':                                   event  count\n",
       " 0                                    AF      6\n",
       " 1                     ASTHMA_PUSHASTHMA      1\n",
       " 2           CHRONICFATIGUESYNDROMEMM_V2      1\n",
       " 3                                 DEATH    100\n",
       " 4                   HAEMOCHROMATOSIS_V2      1\n",
       " 5                          HYPERTENSION      1\n",
       " 6                LYMPHOMA_PREVALENCE_V2      1\n",
       " 7                          OSTEOPOROSIS      1\n",
       " 8   OTHER_CHRONIC_LIVER_DISEASE_OPTIMAL      1\n",
       " 9                       STROKE_HAEMRGIC      6\n",
       " 10                        TYPE2DIABETES      2,\n",
       " 'measurement_tables':                             event  count  count_obs                   digest  \\\n",
       " 0  25_Hydroxyvitamin_D2_level_92_      4          1  ({'m': 10.0, 'c': 1.0})   \n",
       " \n",
       "     min   max  mean  approx_lqr  approx_uqr  \n",
       " 0  10.0  10.0  10.0        10.0        10.0  }"
      ]
     },
     "metadata": {},
     "output_type": "display_data"
    }
   ],
   "source": [
    "meta_information = collector.get_meta_information()\n",
    "display(meta_information)"
   ]
  },
  {
   "cell_type": "code",
   "execution_count": 10,
   "id": "f522d7a5-3fbd-4a48-a7be-03dbcf0c3c21",
   "metadata": {},
   "outputs": [],
   "source": [
    "collector.disconnect()"
   ]
  },
  {
   "cell_type": "code",
   "execution_count": null,
   "id": "62ae0bfe-bfbc-4fb3-89f7-34f4ddeebbce",
   "metadata": {},
   "outputs": [],
   "source": []
  },
  {
   "cell_type": "code",
   "execution_count": null,
   "id": "a19055df-a948-41ae-a0f4-e4dc818f341a",
   "metadata": {},
   "outputs": [],
   "source": []
  },
  {
   "cell_type": "code",
   "execution_count": null,
   "id": "1a6599d5-bd95-499d-8705-e961a17bd81c",
   "metadata": {},
   "outputs": [],
   "source": []
  },
  {
   "cell_type": "code",
   "execution_count": null,
   "id": "9e002e5f-a7ef-4607-adf5-db42535244c2",
   "metadata": {},
   "outputs": [],
   "source": []
  },
  {
   "cell_type": "code",
   "execution_count": null,
   "id": "6406cdf7-6394-4a35-9a6e-833a09314e39",
   "metadata": {},
   "outputs": [],
   "source": []
  },
  {
   "cell_type": "markdown",
   "id": "a545cad0-edaf-45bd-bd2d-f2aa063d2631",
   "metadata": {},
   "source": [
    "# Below needs to be moved to Dataset example folder"
   ]
  },
  {
   "cell_type": "code",
   "execution_count": 11,
   "id": "626b7aba-8aca-4859-b0c9-d6a58f4bcd4e",
   "metadata": {
    "scrolled": true
   },
   "outputs": [
    {
     "ename": "NameError",
     "evalue": "name 'FoundationalDataModule' is not defined",
     "output_type": "error",
     "traceback": [
      "\u001b[0;31m---------------------------------------------------------------------------\u001b[0m",
      "\u001b[0;31mNameError\u001b[0m                                 Traceback (most recent call last)",
      "Cell \u001b[0;32mIn[11], line 4\u001b[0m\n\u001b[1;32m      1\u001b[0m PATH_TO_DS \u001b[38;5;241m=\u001b[39m path_to_directory \u001b[38;5;241m+\u001b[39m \u001b[38;5;124m\"\u001b[39m\u001b[38;5;124mdataset/\u001b[39m\u001b[38;5;124m\"\u001b[39m\n\u001b[1;32m      3\u001b[0m \u001b[38;5;66;03m# Build \u001b[39;00m\n\u001b[0;32m----> 4\u001b[0m dm \u001b[38;5;241m=\u001b[39m \u001b[43mFoundationalDataModule\u001b[49m(path_to_db\u001b[38;5;241m=\u001b[39mPATH_TO_DB,\n\u001b[1;32m      5\u001b[0m                             path_to_ds\u001b[38;5;241m=\u001b[39mPATH_TO_DS,\n\u001b[1;32m      6\u001b[0m                             load\u001b[38;5;241m=\u001b[39m\u001b[38;5;28;01mTrue\u001b[39;00m,\n\u001b[1;32m      7\u001b[0m                             include_diagnoses\u001b[38;5;241m=\u001b[39m\u001b[38;5;28;01mTrue\u001b[39;00m,                            \n\u001b[1;32m      8\u001b[0m                             include_measurements\u001b[38;5;241m=\u001b[39m\u001b[38;5;28;01mTrue\u001b[39;00m,\n\u001b[1;32m      9\u001b[0m                             drop_missing_data\u001b[38;5;241m=\u001b[39m\u001b[38;5;28;01mFalse\u001b[39;00m,\n\u001b[1;32m     10\u001b[0m                             drop_empty_dynamic\u001b[38;5;241m=\u001b[39m\u001b[38;5;28;01mFalse\u001b[39;00m,        \u001b[38;5;66;03m# Change to True in real use case (False due to lack of example data)\u001b[39;00m\n\u001b[1;32m     11\u001b[0m                             tokenizer\u001b[38;5;241m=\u001b[39m\u001b[38;5;124m\"\u001b[39m\u001b[38;5;124mtabular\u001b[39m\u001b[38;5;124m\"\u001b[39m,\n\u001b[1;32m     12\u001b[0m                             \u001b[38;5;66;03m# practice_inclusion_conditions=[\"COUNTRY = 'E'\"],\u001b[39;00m\n\u001b[1;32m     13\u001b[0m                             num_threads\u001b[38;5;241m=\u001b[39m\u001b[38;5;241m10\u001b[39m\n\u001b[1;32m     14\u001b[0m                            )\n\u001b[1;32m     16\u001b[0m vocab_size \u001b[38;5;241m=\u001b[39m dm\u001b[38;5;241m.\u001b[39mtrain_set\u001b[38;5;241m.\u001b[39mtokenizer\u001b[38;5;241m.\u001b[39mvocab_size\n\u001b[1;32m     18\u001b[0m \u001b[38;5;28mprint\u001b[39m(\u001b[38;5;124mf\u001b[39m\u001b[38;5;124m\"\u001b[39m\u001b[38;5;132;01m{\u001b[39;00m\u001b[38;5;28mlen\u001b[39m(dm\u001b[38;5;241m.\u001b[39mtrain_set)\u001b[38;5;132;01m}\u001b[39;00m\u001b[38;5;124m training patients\u001b[39m\u001b[38;5;124m\"\u001b[39m)\n",
      "\u001b[0;31mNameError\u001b[0m: name 'FoundationalDataModule' is not defined"
     ]
    }
   ],
   "source": [
    "PATH_TO_DS = path_to_directory + \"dataset/\"\n",
    "\n",
    "# Build \n",
    "dm = FoundationalDataModule(path_to_db=PATH_TO_DB,\n",
    "                            path_to_ds=PATH_TO_DS,\n",
    "                            load=True,\n",
    "                            include_diagnoses=True,                            \n",
    "                            include_measurements=True,\n",
    "                            drop_missing_data=False,\n",
    "                            drop_empty_dynamic=False,        # Change to True in real use case (False due to lack of example data)\n",
    "                            tokenizer=\"tabular\",\n",
    "                            # practice_inclusion_conditions=[\"COUNTRY = 'E'\"],\n",
    "                            num_threads=10\n",
    "                           )\n",
    "\n",
    "vocab_size = dm.train_set.tokenizer.vocab_size\n",
    "\n",
    "print(f\"{len(dm.train_set)} training patients\")\n",
    "print(f\"{len(dm.val_set)} validation patients\")\n",
    "print(f\"{len(dm.test_set)} test patients\")\n",
    "print(f\"{vocab_size} vocab elements\")"
   ]
  },
  {
   "cell_type": "markdown",
   "id": "03f3b9e0-33d8-42d0-97e8-e1122c7156ee",
   "metadata": {},
   "source": [
    "# Meta information\n",
    "\n",
    "In building the dataset, summary statistics of the events were accumulated and stored in meta_information.\n",
    "\n",
    "These were stored on file, but are also loaded into the data module to be used for\n",
    "* pre-processing\n",
    "* tokenizer building"
   ]
  },
  {
   "cell_type": "code",
   "execution_count": null,
   "id": "df81147a-ab23-4472-bc40-a904953fe544",
   "metadata": {},
   "outputs": [],
   "source": [
    "for key in dm.train_set.meta_information.keys():\n",
    "    print(f\"\\n\\n{key}\\n\" + \"=\"*len(key) + \"\\n\")\n",
    "    display(dm.train_set.meta_information[key])"
   ]
  },
  {
   "cell_type": "markdown",
   "id": "f5cc51c1-bd15-4ec1-81ec-7b4a2a8b88ec",
   "metadata": {},
   "source": [
    "There are also stored within the tokenizer"
   ]
  },
  {
   "cell_type": "code",
   "execution_count": null,
   "id": "330f3a17-32a1-4b8c-87e6-c16b489d7cdd",
   "metadata": {
    "scrolled": true
   },
   "outputs": [],
   "source": [
    "import polars as pl\n",
    "pl.Config.set_tbl_rows(300)\n",
    "pl.Config.set_fmt_str_lengths(100)\n",
    "print(dm.train_set.tokenizer._event_counts)"
   ]
  },
  {
   "cell_type": "markdown",
   "id": "fe0ae8d6-7899-4f89-ab4a-ff753c1fa9ba",
   "metadata": {},
   "source": [
    "# Test data loading times (so we can optimise cpu usage)"
   ]
  },
  {
   "cell_type": "code",
   "execution_count": null,
   "id": "7d0164d4-9829-451e-a169-55569f4aaa22",
   "metadata": {},
   "outputs": [],
   "source": [
    "import pyarrow.parquet as pq\n",
    "import time\n",
    "\n",
    "print(PATH_TO_DS + \"split=train/\")\n",
    "dataset1 = pq.ParquetDataset(PATH_TO_DS + \"split=train/\", \n",
    "                             filters=[('PRACTICE_ID','=','20968')]\n",
    "                             )\n",
    "\n",
    "# Time to read \n",
    "start = time.time()   # starting time\n",
    "df  = dataset1.read().to_pandas()\n",
    "print(df[df[\"row_nr\"] == df.row_nr[0]])\n",
    "print(time.time() - start)\n"
   ]
  },
  {
   "cell_type": "markdown",
   "id": "000ef6c1-4915-4e35-b98c-73dd7bfb4dd8",
   "metadata": {},
   "source": [
    "## Time to load individual samples\n",
    "\n",
    "TODO: this error is due to a poorly populated example dataset "
   ]
  },
  {
   "cell_type": "code",
   "execution_count": null,
   "id": "8bdc9021-702c-4b5f-a77b-6a49eac7e535",
   "metadata": {
    "scrolled": true
   },
   "outputs": [],
   "source": [
    "from tqdm import tqdm\n",
    "import numpy as np\n",
    "\n",
    "times = []\n",
    "start = time.time()   # starting time\n",
    "for row_idx, row in enumerate(tqdm(dm.train_set)):\n",
    "    # print(f\"Sample loaded in {time.time()-start} seconds\")\n",
    "    times.append(time.time()-start)\n",
    "    start = time.time()\n",
    "    if row_idx > 100:\n",
    "        break\n",
    "\n",
    "print(np.mean(times))"
   ]
  },
  {
   "cell_type": "markdown",
   "id": "c8c28dd6-0809-4d8e-8e21-caa148aafeea",
   "metadata": {},
   "source": [
    "## Time to load batch (with only one worker)"
   ]
  },
  {
   "cell_type": "code",
   "execution_count": null,
   "id": "a27de665-1f81-4d80-b4bb-ccdba4da5ed6",
   "metadata": {},
   "outputs": [],
   "source": [
    "# for batch in generator:\n",
    "#     print(batch.columns)\n",
    "#     break"
   ]
  },
  {
   "cell_type": "code",
   "execution_count": null,
   "id": "d9a9ee3b-bb5f-4272-94b9-40833d71384a",
   "metadata": {},
   "outputs": [],
   "source": [
    "times = []\n",
    "start = time.time()   # starting time\n",
    "for batch_idx, batch in enumerate(tqdm(dm.train_dataloader())):\n",
    "    # print(f\"batch loaded in {time.time()-start} seconds\")    \n",
    "    times.append(time.time()-start)\n",
    "    start = time.time()\n",
    "    if batch_idx > 2:\n",
    "        break\n",
    "print(np.mean(times))\n",
    "\n",
    "# for key in batch.keys():\n",
    "#     print(f\"{key}\".ljust(20) + f\"{batch[key].shape}\")\n",
    "\n",
    "# tokens = batch[\"tokens\"][0].tolist()    \n",
    "# sentence = dm.decode(tokens).split(\" \")\n",
    "# for token, value in zip(sentence, batch[\"values\"][0].tolist()):\n",
    "#     print(f\"{token}:\".ljust(40) + f\"{value}\")"
   ]
  },
  {
   "cell_type": "code",
   "execution_count": null,
   "id": "46573a7f-6131-4f27-9877-feb27cc60789",
   "metadata": {},
   "outputs": [],
   "source": [
    "dm.train_set.view_sample(2, max_dynamic_events=12, report_time=True)"
   ]
  },
  {
   "cell_type": "markdown",
   "id": "2ea8d53e-617d-4343-bf9f-0476f3a18987",
   "metadata": {},
   "source": [
    "# Tokenizer keys\n",
    "\n",
    "Here we can see that we have built a tokenizer on only the few event examples given in the example dataset. "
   ]
  },
  {
   "cell_type": "code",
   "execution_count": null,
   "id": "7abb3df6-37e5-4e8e-9a4e-3b4fb709a586",
   "metadata": {},
   "outputs": [],
   "source": [
    "display(dm.train_set.tokenizer._stoi.keys())"
   ]
  }
 ],
 "metadata": {
  "kernelspec": {
   "display_name": "Python 3 (ipykernel)",
   "language": "python",
   "name": "python3"
  },
  "language_info": {
   "codemirror_mode": {
    "name": "ipython",
    "version": 3
   },
   "file_extension": ".py",
   "mimetype": "text/x-python",
   "name": "python",
   "nbconvert_exporter": "python",
   "pygments_lexer": "ipython3",
   "version": "3.10.4"
  }
 },
 "nbformat": 4,
 "nbformat_minor": 5
}
