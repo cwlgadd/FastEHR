{
 "cells": [
  {
   "cell_type": "markdown",
   "id": "3f58899f-4329-4fff-b4cb-cf80a4e7a4e4",
   "metadata": {},
   "source": [
    "# Porting your data into FastEHR"
   ]
  },
  {
   "cell_type": "code",
   "execution_count": 2,
   "id": "d9c70662-7dcf-4a1f-a343-8afd16a58be6",
   "metadata": {},
   "outputs": [
    {
     "name": "stdout",
     "output_type": "stream",
     "text": [
      "/home/ubuntu/Documents/GitHub/SurvivEHR/FastEHR/examples/1_build_database\n",
      "The autoreload extension is already loaded. To reload it, use:\n",
      "  %reload_ext autoreload\n"
     ]
    }
   ],
   "source": [
    "import os\n",
    "from pathlib import Path\n",
    "import pandas as pd\n",
    "import sys\n",
    "import logging\n",
    "logging.basicConfig(level=logging.INFO)\n",
    "from tabulate import tabulate\n",
    "\n",
    "\n",
    "cwd = os.getcwd()\n",
    "!pwd\n",
    "\n",
    "%load_ext autoreload\n",
    "%autoreload 2"
   ]
  },
  {
   "cell_type": "markdown",
   "id": "eb50912b-f32d-4cd0-88ac-5f78b77b7861",
   "metadata": {},
   "source": [
    "# Example\n",
    "\n",
    "Within this repository is an example dataset which can be found at \n",
    "\n",
    "```\n",
    "<installation_path>/FastEHR/examples/data/\n",
    "```\n",
    "\n",
    "This dataset contains an example of Primary Care Electronic Healthcare Records, recorded through a patients lifetime.\n",
    "\n",
    "Within this directory, there are four folders\n",
    "\n",
    "    1) `baseline` - contains the static covariates that remain constant throughout a patient's time in the study.\n",
    "    2) 'diagnoses' - contains events which do not have an associated value. \n",
    "            * In this example, this would be diagnoses.\n",
    "    3) 'timeseries' - a parent directory for all events that contain an associated value.\n",
    "            * In this example, this would be measurements, tests, and medications\n",
    "    4) '_built' - a directory which will be used to contain any FastEHR output"
   ]
  },
  {
   "cell_type": "code",
   "execution_count": 3,
   "id": "f0e70612-1a3d-464c-a00f-59caad47eff0",
   "metadata": {},
   "outputs": [
    {
     "data": {
      "text/plain": [
       "['diagnoses', '_built', 'timeseries', 'baseline']"
      ]
     },
     "metadata": {},
     "output_type": "display_data"
    },
    {
     "data": {
      "text/plain": [
       "['Serum_folate_80.csv',\n",
       " 'Rivastigmine.csv',\n",
       " 'Plasma_LDL_cholesterol_level_104.csv']"
      ]
     },
     "metadata": {},
     "output_type": "display_data"
    }
   ],
   "source": [
    "display(os.listdir(cwd + \"/../data\"))\n",
    "display(os.listdir(cwd + \"/../data/timeseries/measurement_tests_medications\")[:3])"
   ]
  },
  {
   "cell_type": "markdown",
   "id": "123ea20d-ebf8-4ab9-b4f3-377f5073e2e1",
   "metadata": {},
   "source": [
    "# Static covariates"
   ]
  },
  {
   "cell_type": "markdown",
   "id": "78249b0b-b7a3-4fb8-be87-6f11648c410b",
   "metadata": {},
   "source": [
    "Let us first inspect the structure of the `baseline` folder contents."
   ]
  },
  {
   "cell_type": "code",
   "execution_count": 4,
   "id": "eb423f4b-014e-44c7-9c10-26ea48fc1abb",
   "metadata": {},
   "outputs": [
    {
     "name": "stdout",
     "output_type": "stream",
     "text": [
      "+----+---------------+--------------+-----------+---------------+--------------+\n",
      "|    | PRACTICE_ID   |   PATIENT_ID | COUNTRY   | HEALTH_AUTH   | INDEX_DATE   |\n",
      "|----+---------------+--------------+-----------+---------------+--------------|\n",
      "|  0 | p20960        |            1 | E         | South East    | 2008-07-23   |\n",
      "|  1 | p20960        |            2 | E         | South East    | 2008-07-24   |\n",
      "|  2 | p20960        |            3 | E         | South East    | 2008-07-25   |\n",
      "|  3 | p20960        |            4 | E         | South East    | 2008-07-26   |\n",
      "|  4 | p20960        |            5 | E         | South East    | 2008-07-27   |\n",
      "|  5 | p20961        |            1 | E         | North West    | 2008-07-28   |\n",
      "+----+---------------+--------------+-----------+---------------+--------------+\n",
      "+----+--------------+-------------+-----------------+-------+-------+--------------+------------+\n",
      "|    | DEATH_DATE   | ETHNICITY   | YEAR_OF_BIRTH   | SEX   |   IMD | START_DATE   | END_DATE   |\n",
      "|----+--------------+-------------+-----------------+-------+-------+--------------+------------|\n",
      "|  0 | nan          | MISSING     | 1940-07-15      | M     |     1 | 2008-07-23   | 2022-03-17 |\n",
      "|  1 | nan          | WHITE       | 1940-07-16      | F     |     2 | 2008-07-24   | 2022-03-18 |\n",
      "|  2 | nan          | MIXED       | 1940-07-17      | I     |     3 | 2008-07-25   | 2022-03-19 |\n",
      "|  3 | 2009-08-29   | ASIAN       | 1940-07-18      | M     |     4 | 2008-07-26   | 2022-03-20 |\n",
      "|  4 | nan          | BLACK       | 1940-07-19      | F     |     5 | 2008-07-27   | 2022-03-21 |\n",
      "|  5 | nan          | MISSING     | 1940-07-20      | I     |   nan | 2008-07-28   | 2022-03-22 |\n",
      "+----+--------------+-------------+-----------------+-------+-------+--------------+------------+\n"
     ]
    }
   ],
   "source": [
    "static_contents = pd.read_csv(cwd + \"/../data/baseline/static_data.csv\")\n",
    "\n",
    "print(tabulate(static_contents.iloc[:,0:5].head(6), headers='keys', tablefmt='psql'))\n",
    "print(tabulate(static_contents.iloc[:,5:].head(6), headers='keys', tablefmt='psql'))\n"
   ]
  },
  {
   "cell_type": "markdown",
   "id": "613f14cd-0251-406c-b5ab-ce24917bf2e7",
   "metadata": {},
   "source": [
    "# Non-valued events"
   ]
  },
  {
   "cell_type": "markdown",
   "id": "82114d83-2652-4113-bc90-51ef8dcf831a",
   "metadata": {},
   "source": [
    "We now inspect the structure of the `diagnoses` folder contents."
   ]
  },
  {
   "cell_type": "code",
   "execution_count": 37,
   "id": "ebd3dcfc-011b-48bd-8a61-4f1caa1afe55",
   "metadata": {},
   "outputs": [
    {
     "name": "stdout",
     "output_type": "stream",
     "text": [
      "+----+-----------------------+-----------------+--------------+--------------+---------------------------+\n",
      "|    | PRACTICE_PATIENT_ID   | YEAR_OF_BIRTH   | DEATH_DATE   | BD_MEDI:AF   |   BD_MEDI:STROKE_HAEMRGIC |\n",
      "|----+-----------------------+-----------------+--------------+--------------+---------------------------|\n",
      "|  0 | p20960_1              | 1940-07-15      | 2009-08-01   | nan          |                       nan |\n",
      "|  1 | p20960_2              | 1940-07-16      | 2009-08-02   | nan          |                       nan |\n",
      "|  2 | p20960_3              | 1940-07-17      | 2009-08-03   | nan          |                       nan |\n",
      "|  3 | p20960_4              | 1940-07-18      | 2009-08-04   | 1992-06-12   |                       nan |\n",
      "|  4 | P20960_5              | 1940-07-19      | 2009-08-05   | nan          |                       nan |\n",
      "+----+-----------------------+-----------------+--------------+--------------+---------------------------+\n"
     ]
    }
   ],
   "source": [
    "nv_event_contents = pd.read_csv(cwd + \"/../data/diagnoses/diagnosis_data.csv\")\n",
    "\n",
    "# Take only the first 5 columns (cutting out additional events)\n",
    "print(tabulate(nv_event_contents.iloc[:,0:5].head(), headers='keys', tablefmt='psql'))\n",
    "\n"
   ]
  },
  {
   "cell_type": "markdown",
   "id": "50467601-9c0e-4a7a-8f82-f690042a3c1e",
   "metadata": {},
   "source": [
    "We see many column names. Columns beginning with the prefix \"BD_MEDI:\" are marked as events, and the column rows contain a date if they were observed.\n",
    "\n",
    "Death is also included as a column, as this is an event."
   ]
  },
  {
   "cell_type": "code",
   "execution_count": 38,
   "id": "4334a7ec-c7de-4068-af4a-10c1ead004a7",
   "metadata": {},
   "outputs": [
    {
     "name": "stdout",
     "output_type": "stream",
     "text": [
      "Index(['PRACTICE_PATIENT_ID', 'YEAR_OF_BIRTH', 'DEATH_DATE', 'BD_MEDI:AF',\n",
      "       'BD_MEDI:STROKE_HAEMRGIC', 'BD_MEDI:HYPERTENSION',\n",
      "       'BD_MEDI:MINFARCTION', 'BD_MEDI:PAD_STRICT', 'BD_MEDI:TYPE1DM',\n",
      "       'BD_MEDI:TYPE2DIABETES', 'BD_MEDI:CKDSTAGE3TO5', 'BD_MEDI:DEPRESSION',\n",
      "       'BD_MEDI:ANXIETY', 'BD_MEDI:BIPOLAR', 'BD_MEDI:EATINGDISORDERS',\n",
      "       'BD_MEDI:AUTISM', 'BD_MEDI:SUBSTANCEMISUSE',\n",
      "       'BD_MEDI:CHRONIC_LIVER_DISEASE_ALCOHOL',\n",
      "       'BD_MEDI:OTHER_CHRONIC_LIVER_DISEASE_OPTIMAL',\n",
      "       'BD_MEDI:ULCERATIVE_COLITIS'],\n",
      "      dtype='object')\n"
     ]
    }
   ],
   "source": [
    "print(nv_event_contents.columns[:20])"
   ]
  },
  {
   "cell_type": "markdown",
   "id": "f431bc60-f9e7-4b27-a0a5-f4f170f76a9f",
   "metadata": {},
   "source": [
    "# Valued-events (or events which require their own database table)"
   ]
  },
  {
   "cell_type": "code",
   "execution_count": 29,
   "id": "c928fd9c-0834-44e3-a7c4-2e773f871129",
   "metadata": {},
   "outputs": [],
   "source": [
    "# TODO: print relevant docstrings"
   ]
  },
  {
   "cell_type": "markdown",
   "id": "1e849c4d-f8ab-4fab-bf0b-a0915bfe328e",
   "metadata": {},
   "source": [
    "We now inspect the structure of the `timeseries` parent folder contents."
   ]
  },
  {
   "cell_type": "code",
   "execution_count": 31,
   "id": "7e89de9d-a08f-4269-b677-4fa1f38f54c5",
   "metadata": {},
   "outputs": [
    {
     "ename": "EmptyDataError",
     "evalue": "No columns to parse from file",
     "output_type": "error",
     "traceback": [
      "\u001b[0;31m---------------------------------------------------------------------------\u001b[0m",
      "\u001b[0;31mEmptyDataError\u001b[0m                            Traceback (most recent call last)",
      "Cell \u001b[0;32mIn[31], line 1\u001b[0m\n\u001b[0;32m----> 1\u001b[0m nv_event_contents \u001b[38;5;241m=\u001b[39m \u001b[43mpd\u001b[49m\u001b[38;5;241;43m.\u001b[39;49m\u001b[43mread_csv\u001b[49m\u001b[43m(\u001b[49m\u001b[43mcwd\u001b[49m\u001b[43m \u001b[49m\u001b[38;5;241;43m+\u001b[39;49m\u001b[43m \u001b[49m\u001b[38;5;124;43m\"\u001b[39;49m\u001b[38;5;124;43m/../data/timeseries/measurement_tests_medications/Serum_folate_80.csv\u001b[39;49m\u001b[38;5;124;43m\"\u001b[39;49m\u001b[43m)\u001b[49m\n\u001b[1;32m      2\u001b[0m \u001b[38;5;28mprint\u001b[39m(nv_event_contents\u001b[38;5;241m.\u001b[39mhead())\n",
      "File \u001b[0;32m~/.pyenv/versions/3.10.4/envs/SurvivEHR-data/lib/python3.10/site-packages/pandas/util/_decorators.py:311\u001b[0m, in \u001b[0;36mdeprecate_nonkeyword_arguments.<locals>.decorate.<locals>.wrapper\u001b[0;34m(*args, **kwargs)\u001b[0m\n\u001b[1;32m    305\u001b[0m \u001b[38;5;28;01mif\u001b[39;00m \u001b[38;5;28mlen\u001b[39m(args) \u001b[38;5;241m>\u001b[39m num_allow_args:\n\u001b[1;32m    306\u001b[0m     warnings\u001b[38;5;241m.\u001b[39mwarn(\n\u001b[1;32m    307\u001b[0m         msg\u001b[38;5;241m.\u001b[39mformat(arguments\u001b[38;5;241m=\u001b[39marguments),\n\u001b[1;32m    308\u001b[0m         \u001b[38;5;167;01mFutureWarning\u001b[39;00m,\n\u001b[1;32m    309\u001b[0m         stacklevel\u001b[38;5;241m=\u001b[39mstacklevel,\n\u001b[1;32m    310\u001b[0m     )\n\u001b[0;32m--> 311\u001b[0m \u001b[38;5;28;01mreturn\u001b[39;00m \u001b[43mfunc\u001b[49m\u001b[43m(\u001b[49m\u001b[38;5;241;43m*\u001b[39;49m\u001b[43margs\u001b[49m\u001b[43m,\u001b[49m\u001b[43m \u001b[49m\u001b[38;5;241;43m*\u001b[39;49m\u001b[38;5;241;43m*\u001b[39;49m\u001b[43mkwargs\u001b[49m\u001b[43m)\u001b[49m\n",
      "File \u001b[0;32m~/.pyenv/versions/3.10.4/envs/SurvivEHR-data/lib/python3.10/site-packages/pandas/io/parsers/readers.py:680\u001b[0m, in \u001b[0;36mread_csv\u001b[0;34m(filepath_or_buffer, sep, delimiter, header, names, index_col, usecols, squeeze, prefix, mangle_dupe_cols, dtype, engine, converters, true_values, false_values, skipinitialspace, skiprows, skipfooter, nrows, na_values, keep_default_na, na_filter, verbose, skip_blank_lines, parse_dates, infer_datetime_format, keep_date_col, date_parser, dayfirst, cache_dates, iterator, chunksize, compression, thousands, decimal, lineterminator, quotechar, quoting, doublequote, escapechar, comment, encoding, encoding_errors, dialect, error_bad_lines, warn_bad_lines, on_bad_lines, delim_whitespace, low_memory, memory_map, float_precision, storage_options)\u001b[0m\n\u001b[1;32m    665\u001b[0m kwds_defaults \u001b[38;5;241m=\u001b[39m _refine_defaults_read(\n\u001b[1;32m    666\u001b[0m     dialect,\n\u001b[1;32m    667\u001b[0m     delimiter,\n\u001b[0;32m   (...)\u001b[0m\n\u001b[1;32m    676\u001b[0m     defaults\u001b[38;5;241m=\u001b[39m{\u001b[38;5;124m\"\u001b[39m\u001b[38;5;124mdelimiter\u001b[39m\u001b[38;5;124m\"\u001b[39m: \u001b[38;5;124m\"\u001b[39m\u001b[38;5;124m,\u001b[39m\u001b[38;5;124m\"\u001b[39m},\n\u001b[1;32m    677\u001b[0m )\n\u001b[1;32m    678\u001b[0m kwds\u001b[38;5;241m.\u001b[39mupdate(kwds_defaults)\n\u001b[0;32m--> 680\u001b[0m \u001b[38;5;28;01mreturn\u001b[39;00m \u001b[43m_read\u001b[49m\u001b[43m(\u001b[49m\u001b[43mfilepath_or_buffer\u001b[49m\u001b[43m,\u001b[49m\u001b[43m \u001b[49m\u001b[43mkwds\u001b[49m\u001b[43m)\u001b[49m\n",
      "File \u001b[0;32m~/.pyenv/versions/3.10.4/envs/SurvivEHR-data/lib/python3.10/site-packages/pandas/io/parsers/readers.py:575\u001b[0m, in \u001b[0;36m_read\u001b[0;34m(filepath_or_buffer, kwds)\u001b[0m\n\u001b[1;32m    572\u001b[0m _validate_names(kwds\u001b[38;5;241m.\u001b[39mget(\u001b[38;5;124m\"\u001b[39m\u001b[38;5;124mnames\u001b[39m\u001b[38;5;124m\"\u001b[39m, \u001b[38;5;28;01mNone\u001b[39;00m))\n\u001b[1;32m    574\u001b[0m \u001b[38;5;66;03m# Create the parser.\u001b[39;00m\n\u001b[0;32m--> 575\u001b[0m parser \u001b[38;5;241m=\u001b[39m \u001b[43mTextFileReader\u001b[49m\u001b[43m(\u001b[49m\u001b[43mfilepath_or_buffer\u001b[49m\u001b[43m,\u001b[49m\u001b[43m \u001b[49m\u001b[38;5;241;43m*\u001b[39;49m\u001b[38;5;241;43m*\u001b[39;49m\u001b[43mkwds\u001b[49m\u001b[43m)\u001b[49m\n\u001b[1;32m    577\u001b[0m \u001b[38;5;28;01mif\u001b[39;00m chunksize \u001b[38;5;129;01mor\u001b[39;00m iterator:\n\u001b[1;32m    578\u001b[0m     \u001b[38;5;28;01mreturn\u001b[39;00m parser\n",
      "File \u001b[0;32m~/.pyenv/versions/3.10.4/envs/SurvivEHR-data/lib/python3.10/site-packages/pandas/io/parsers/readers.py:933\u001b[0m, in \u001b[0;36mTextFileReader.__init__\u001b[0;34m(self, f, engine, **kwds)\u001b[0m\n\u001b[1;32m    930\u001b[0m     \u001b[38;5;28mself\u001b[39m\u001b[38;5;241m.\u001b[39moptions[\u001b[38;5;124m\"\u001b[39m\u001b[38;5;124mhas_index_names\u001b[39m\u001b[38;5;124m\"\u001b[39m] \u001b[38;5;241m=\u001b[39m kwds[\u001b[38;5;124m\"\u001b[39m\u001b[38;5;124mhas_index_names\u001b[39m\u001b[38;5;124m\"\u001b[39m]\n\u001b[1;32m    932\u001b[0m \u001b[38;5;28mself\u001b[39m\u001b[38;5;241m.\u001b[39mhandles: IOHandles \u001b[38;5;241m|\u001b[39m \u001b[38;5;28;01mNone\u001b[39;00m \u001b[38;5;241m=\u001b[39m \u001b[38;5;28;01mNone\u001b[39;00m\n\u001b[0;32m--> 933\u001b[0m \u001b[38;5;28mself\u001b[39m\u001b[38;5;241m.\u001b[39m_engine \u001b[38;5;241m=\u001b[39m \u001b[38;5;28;43mself\u001b[39;49m\u001b[38;5;241;43m.\u001b[39;49m\u001b[43m_make_engine\u001b[49m\u001b[43m(\u001b[49m\u001b[43mf\u001b[49m\u001b[43m,\u001b[49m\u001b[43m \u001b[49m\u001b[38;5;28;43mself\u001b[39;49m\u001b[38;5;241;43m.\u001b[39;49m\u001b[43mengine\u001b[49m\u001b[43m)\u001b[49m\n",
      "File \u001b[0;32m~/.pyenv/versions/3.10.4/envs/SurvivEHR-data/lib/python3.10/site-packages/pandas/io/parsers/readers.py:1235\u001b[0m, in \u001b[0;36mTextFileReader._make_engine\u001b[0;34m(self, f, engine)\u001b[0m\n\u001b[1;32m   1232\u001b[0m     \u001b[38;5;28;01mraise\u001b[39;00m \u001b[38;5;167;01mValueError\u001b[39;00m(msg)\n\u001b[1;32m   1234\u001b[0m \u001b[38;5;28;01mtry\u001b[39;00m:\n\u001b[0;32m-> 1235\u001b[0m     \u001b[38;5;28;01mreturn\u001b[39;00m \u001b[43mmapping\u001b[49m\u001b[43m[\u001b[49m\u001b[43mengine\u001b[49m\u001b[43m]\u001b[49m\u001b[43m(\u001b[49m\u001b[43mf\u001b[49m\u001b[43m,\u001b[49m\u001b[43m \u001b[49m\u001b[38;5;241;43m*\u001b[39;49m\u001b[38;5;241;43m*\u001b[39;49m\u001b[38;5;28;43mself\u001b[39;49m\u001b[38;5;241;43m.\u001b[39;49m\u001b[43moptions\u001b[49m\u001b[43m)\u001b[49m\n\u001b[1;32m   1236\u001b[0m \u001b[38;5;28;01mexcept\u001b[39;00m \u001b[38;5;167;01mException\u001b[39;00m:\n\u001b[1;32m   1237\u001b[0m     \u001b[38;5;28;01mif\u001b[39;00m \u001b[38;5;28mself\u001b[39m\u001b[38;5;241m.\u001b[39mhandles \u001b[38;5;129;01mis\u001b[39;00m \u001b[38;5;129;01mnot\u001b[39;00m \u001b[38;5;28;01mNone\u001b[39;00m:\n",
      "File \u001b[0;32m~/.pyenv/versions/3.10.4/envs/SurvivEHR-data/lib/python3.10/site-packages/pandas/io/parsers/c_parser_wrapper.py:75\u001b[0m, in \u001b[0;36mCParserWrapper.__init__\u001b[0;34m(self, src, **kwds)\u001b[0m\n\u001b[1;32m     72\u001b[0m     kwds\u001b[38;5;241m.\u001b[39mpop(key, \u001b[38;5;28;01mNone\u001b[39;00m)\n\u001b[1;32m     74\u001b[0m kwds[\u001b[38;5;124m\"\u001b[39m\u001b[38;5;124mdtype\u001b[39m\u001b[38;5;124m\"\u001b[39m] \u001b[38;5;241m=\u001b[39m ensure_dtype_objs(kwds\u001b[38;5;241m.\u001b[39mget(\u001b[38;5;124m\"\u001b[39m\u001b[38;5;124mdtype\u001b[39m\u001b[38;5;124m\"\u001b[39m, \u001b[38;5;28;01mNone\u001b[39;00m))\n\u001b[0;32m---> 75\u001b[0m \u001b[38;5;28mself\u001b[39m\u001b[38;5;241m.\u001b[39m_reader \u001b[38;5;241m=\u001b[39m \u001b[43mparsers\u001b[49m\u001b[38;5;241;43m.\u001b[39;49m\u001b[43mTextReader\u001b[49m\u001b[43m(\u001b[49m\u001b[43msrc\u001b[49m\u001b[43m,\u001b[49m\u001b[43m \u001b[49m\u001b[38;5;241;43m*\u001b[39;49m\u001b[38;5;241;43m*\u001b[39;49m\u001b[43mkwds\u001b[49m\u001b[43m)\u001b[49m\n\u001b[1;32m     77\u001b[0m \u001b[38;5;28mself\u001b[39m\u001b[38;5;241m.\u001b[39munnamed_cols \u001b[38;5;241m=\u001b[39m \u001b[38;5;28mself\u001b[39m\u001b[38;5;241m.\u001b[39m_reader\u001b[38;5;241m.\u001b[39munnamed_cols\n\u001b[1;32m     79\u001b[0m \u001b[38;5;66;03m# error: Cannot determine type of 'names'\u001b[39;00m\n",
      "File \u001b[0;32m~/.pyenv/versions/3.10.4/envs/SurvivEHR-data/lib/python3.10/site-packages/pandas/_libs/parsers.pyx:551\u001b[0m, in \u001b[0;36mpandas._libs.parsers.TextReader.__cinit__\u001b[0;34m()\u001b[0m\n",
      "\u001b[0;31mEmptyDataError\u001b[0m: No columns to parse from file"
     ]
    }
   ],
   "source": [
    "v_event_contents = pd.read_csv(cwd + \"/../data/timeseries/measurement_tests_medications/Serum_folate_80.csv\")\n",
    "print(v_event_contents.head())"
   ]
  },
  {
   "cell_type": "code",
   "execution_count": null,
   "id": "e76d6efa-c4d8-4c2a-ad2b-6747a169c5e4",
   "metadata": {},
   "outputs": [],
   "source": []
  }
 ],
 "metadata": {
  "kernelspec": {
   "display_name": "Python 3 (ipykernel)",
   "language": "python",
   "name": "python3"
  },
  "language_info": {
   "codemirror_mode": {
    "name": "ipython",
    "version": 3
   },
   "file_extension": ".py",
   "mimetype": "text/x-python",
   "name": "python",
   "nbconvert_exporter": "python",
   "pygments_lexer": "ipython3",
   "version": "3.10.4"
  }
 },
 "nbformat": 4,
 "nbformat_minor": 5
}
