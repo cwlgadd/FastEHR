{
 "cells": [
  {
   "cell_type": "markdown",
   "id": "3f58899f-4329-4fff-b4cb-cf80a4e7a4e4",
   "metadata": {},
   "source": [
    "# Creating the parquet dataset from SQLite tables"
   ]
  },
  {
   "cell_type": "code",
   "execution_count": 1,
   "id": "d9c70662-7dcf-4a1f-a343-8afd16a58be6",
   "metadata": {},
   "outputs": [
    {
     "name": "stdout",
     "output_type": "stream",
     "text": [
      "Using device: cpu.\n",
      "/home/ubuntu/Documents/GitHub/SurvivEHR/FastEHR/examples/1_build_database\n"
     ]
    }
   ],
   "source": [
    "import os\n",
    "import logging\n",
    "import time\n",
    "\n",
    "import torch\n",
    "\n",
    "from FastEHR.database import Static\n",
    "from FastEHR.database import Diagnoses\n",
    "from FastEHR.database import Measurements\n",
    "\n",
    "torch.manual_seed(1337)\n",
    "\n",
    "logging.basicConfig(level=logging.INFO)\n",
    "device = 'cuda' if torch.cuda.is_available() else 'cpu'\n",
    "# device = \"cpu\"    # if more informative debugging statements are needed\n",
    "print(f\"Using device: {device}.\")\n",
    "\n",
    "\n",
    "!pwd\n",
    "\n",
    "%load_ext autoreload\n",
    "%autoreload 2"
   ]
  },
  {
   "cell_type": "markdown",
   "id": "a0433edc-2779-468c-9d78-94ceea5fa53e",
   "metadata": {},
   "source": [
    "# Paths to example dataset and location to save generated database"
   ]
  },
  {
   "cell_type": "code",
   "execution_count": 2,
   "id": "ff00f74b-f1a5-43d3-8e28-6c302d43b88e",
   "metadata": {},
   "outputs": [
    {
     "name": "stdout",
     "output_type": "stream",
     "text": [
      "Saving databse to /home/ubuntu/Documents/GitHub/SurvivEHR/FastEHR/examples/1_build_database/../data/_built/example_database.db\n"
     ]
    }
   ],
   "source": [
    "# path_to_directory = \"/home/ubuntu/Documents/GitHub/SurvivEHR/FastEHR/examples/data/_built/\"\n",
    "\n",
    "path_to_directory = os.getcwd() + \"/../data/\"\n",
    "PATH_TO_DB = os.getcwd() + \"/../data/_built/example_database.db\"\n",
    "print(f\"Saving databse to {PATH_TO_DB}\")\n",
    "\n",
    "load = False\n",
    "if load:\n",
    "    logging.warning(f\"Load is true, if you want to re-build database set to False\")"
   ]
  },
  {
   "cell_type": "markdown",
   "id": "09532348-62df-450f-b1f4-d6c6d695e74c",
   "metadata": {},
   "source": [
    "# Create static table\n",
    "\n",
    "This is information that persists throughout a patients lifetime."
   ]
  },
  {
   "cell_type": "code",
   "execution_count": 3,
   "id": "d03dc50f-408f-4054-b5e9-df732629821a",
   "metadata": {},
   "outputs": [
    {
     "name": "stderr",
     "output_type": "stream",
     "text": [
      "INFO:root:Removing previous static table (if exists)\n",
      "INFO:root:Creating static_table\n",
      "Building static table: 1it [00:00, 71.50it/s]\n",
      "INFO:root:Creating indexes on static_table\n"
     ]
    },
    {
     "name": "stdout",
     "output_type": "stream",
     "text": [
      "Static table with 100 records.\n"
     ]
    }
   ],
   "source": [
    "PATH_TO_STATIC = path_to_directory + \"baseline/static_data.csv\"\n",
    "\n",
    "static = Static(PATH_TO_DB, PATH_TO_STATIC, load=load)\n",
    "print(static)"
   ]
  },
  {
   "cell_type": "markdown",
   "id": "a309fbef-52ef-493e-8b25-53fbb8613f2e",
   "metadata": {},
   "source": [
    "# Create none-valued event table\n",
    "\n",
    "This is a single table which contains all none-valued events"
   ]
  },
  {
   "cell_type": "code",
   "execution_count": 4,
   "id": "c1eb2ab9-4751-46ae-9e0a-1e7507a370d1",
   "metadata": {},
   "outputs": [
    {
     "name": "stderr",
     "output_type": "stream",
     "text": [
      "INFO:root:Creating diagnosis_table\n",
      "Building diagnosis table: 1it [00:00,  5.37it/s]\n",
      "INFO:root:Creating indexes on diagnosis_table\n"
     ]
    },
    {
     "name": "stdout",
     "output_type": "stream",
     "text": [
      "Diagnosis table with 121 records.\n"
     ]
    }
   ],
   "source": [
    "PATH_TO_DIAGNOSIS = path_to_directory + \"diagnoses/diagnosis_data.csv\"\n",
    "\n",
    "diagnosis = Diagnoses(PATH_TO_DB, PATH_TO_DIAGNOSIS, load=load)\n",
    "print(diagnosis)"
   ]
  },
  {
   "cell_type": "markdown",
   "id": "8eca6299-a00f-4b31-b2b9-158fd6617d4a",
   "metadata": {},
   "source": [
    "# Create valued event table"
   ]
  },
  {
   "cell_type": "code",
   "execution_count": 5,
   "id": "0c2a7e53-b146-4ab9-a0a0-f0c97547c72c",
   "metadata": {},
   "outputs": [
    {
     "name": "stderr",
     "output_type": "stream",
     "text": [
      "INFO:root:Building table from file /home/ubuntu/Documents/GitHub/SurvivEHR/FastEHR/examples/1_build_database/../data/timeseries/measurement_tests_medications/25_Hydroxyvitamin_D2_level_92_.csv to table: measurement_25_Hydroxyvitamin_D2_level_92_\n",
      "INFO:root:Used event_date_col EVENT_DATE, and event_value_col Value   : 0it [00:00, ?it/s]\n",
      "INFO:root:Selected from available columns ['PRACTICE_PATIENT_ID', 'EVENT_DATE', 'Value']\n",
      "Adding 25_Hydroxyvitamin_D2_level_92_                                 : 1it [00:00, 73.89it/s]"
     ]
    },
    {
     "name": "stdout",
     "output_type": "stream",
     "text": [
      "Measurement table:\n",
      "Measurement & Count\n",
      "25_Hydroxyvitamin_D2_level_92_:                    & 4\n",
      "Total                                  & 4\n"
     ]
    },
    {
     "name": "stderr",
     "output_type": "stream",
     "text": [
      "\n"
     ]
    }
   ],
   "source": [
    "PATH_TO_DYNAMIC = path_to_directory + \"timeseries/measurement_tests_medications/\"\n",
    "\n",
    "measurements = Measurements(PATH_TO_DB, PATH_TO_DYNAMIC, load=load)\n",
    "print(measurements)"
   ]
  },
  {
   "cell_type": "code",
   "execution_count": null,
   "id": "e76d6efa-c4d8-4c2a-ad2b-6747a169c5e4",
   "metadata": {},
   "outputs": [],
   "source": []
  }
 ],
 "metadata": {
  "kernelspec": {
   "display_name": "Python 3 (ipykernel)",
   "language": "python",
   "name": "python3"
  },
  "language_info": {
   "codemirror_mode": {
    "name": "ipython",
    "version": 3
   },
   "file_extension": ".py",
   "mimetype": "text/x-python",
   "name": "python",
   "nbconvert_exporter": "python",
   "pygments_lexer": "ipython3",
   "version": "3.10.4"
  }
 },
 "nbformat": 4,
 "nbformat_minor": 5
}
