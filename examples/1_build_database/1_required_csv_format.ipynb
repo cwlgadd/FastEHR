{
 "cells": [
  {
   "cell_type": "markdown",
   "id": "3f58899f-4329-4fff-b4cb-cf80a4e7a4e4",
   "metadata": {},
   "source": [
    "# Porting your data into FastEHR"
   ]
  },
  {
   "cell_type": "code",
   "execution_count": 8,
   "id": "d9c70662-7dcf-4a1f-a343-8afd16a58be6",
   "metadata": {},
   "outputs": [
    {
     "name": "stdout",
     "output_type": "stream",
     "text": [
      "/home/ubuntu/Documents/GitHub/SurvivEHR/FastEHR/examples/1_build_database\n",
      "The autoreload extension is already loaded. To reload it, use:\n",
      "  %reload_ext autoreload\n"
     ]
    }
   ],
   "source": [
    "import os\n",
    "from pathlib import Path\n",
    "import sys\n",
    "import logging\n",
    "\n",
    "import pandas as pd\n",
    "from tabulate import tabulate\n",
    "\n",
    "logging.basicConfig(level=logging.INFO)\n",
    "\n",
    "cwd = os.getcwd()\n",
    "!pwd\n",
    "\n",
    "%load_ext autoreload\n",
    "%autoreload 2"
   ]
  },
  {
   "cell_type": "markdown",
   "id": "eb50912b-f32d-4cd0-88ac-5f78b77b7861",
   "metadata": {},
   "source": [
    "# Example\n",
    "\n",
    "Within this repository is an example dataset which can be found at \n",
    "\n",
    "```\n",
    "<installation_path>/FastEHR/examples/data/\n",
    "```\n",
    "\n",
    "This dataset contains an example of Primary Care Electronic Healthcare Records, recorded through a patients lifetime.\n",
    "\n",
    "Within this directory, there are four folders\n",
    "\n",
    "    1) `baseline` - contains the static covariates that remain constant throughout a patient's time in the study.\n",
    "    2) 'diagnoses' - contains events which do not have an associated value. \n",
    "            * In this example, this would be diagnoses.\n",
    "    3) 'timeseries' - a parent directory for all events that contain an associated value.\n",
    "            * In this example, this would be measurements, tests, and medications\n",
    "    4) '_built' - a directory which will be used to contain any FastEHR output"
   ]
  },
  {
   "cell_type": "code",
   "execution_count": 2,
   "id": "f0e70612-1a3d-464c-a00f-59caad47eff0",
   "metadata": {},
   "outputs": [
    {
     "data": {
      "text/plain": [
       "['diagnoses', '_built', 'timeseries', 'baseline']"
      ]
     },
     "metadata": {},
     "output_type": "display_data"
    },
    {
     "data": {
      "text/plain": [
       "['25_Hydroxyvitamin_D2_level_92_.csv', 'bak']"
      ]
     },
     "metadata": {},
     "output_type": "display_data"
    }
   ],
   "source": [
    "display(os.listdir(cwd + \"/../data\"))\n",
    "display(os.listdir(cwd + \"/../data/timeseries/measurement_tests_medications\")[:3])"
   ]
  },
  {
   "cell_type": "markdown",
   "id": "123ea20d-ebf8-4ab9-b4f3-377f5073e2e1",
   "metadata": {},
   "source": [
    "# Static covariates"
   ]
  },
  {
   "cell_type": "markdown",
   "id": "78249b0b-b7a3-4fb8-be87-6f11648c410b",
   "metadata": {},
   "source": [
    "Let us first inspect the structure of the `baseline` folder contents."
   ]
  },
  {
   "cell_type": "code",
   "execution_count": 3,
   "id": "eb423f4b-014e-44c7-9c10-26ea48fc1abb",
   "metadata": {},
   "outputs": [
    {
     "name": "stdout",
     "output_type": "stream",
     "text": [
      "+----+---------------+--------------+-----------+---------------+--------------+\n",
      "|    | PRACTICE_ID   |   PATIENT_ID | COUNTRY   | HEALTH_AUTH   | INDEX_DATE   |\n",
      "|----+---------------+--------------+-----------+---------------+--------------|\n",
      "|  0 | p20960        |            1 | E         | South East    | 2008-07-23   |\n",
      "|  1 | p20960        |            2 | E         | South East    | 2008-07-24   |\n",
      "|  2 | p20960        |            3 | E         | South East    | 2008-07-25   |\n",
      "|  3 | p20960        |            4 | E         | South East    | 2008-07-26   |\n",
      "|  4 | p20960        |            5 | E         | South East    | 2008-07-27   |\n",
      "|  5 | p20961        |            1 | E         | North West    | 2008-07-28   |\n",
      "+----+---------------+--------------+-----------+---------------+--------------+\n",
      "+----+--------------+-------------+-----------------+-------+-------+--------------+------------+\n",
      "|    | DEATH_DATE   | ETHNICITY   | YEAR_OF_BIRTH   | SEX   |   IMD | START_DATE   | END_DATE   |\n",
      "|----+--------------+-------------+-----------------+-------+-------+--------------+------------|\n",
      "|  0 | nan          | MISSING     | 1940-07-15      | M     |     1 | 2008-07-23   | 2022-03-17 |\n",
      "|  1 | 2009-08-29   | WHITE       | 1940-07-16      | F     |     2 | 2008-07-24   | 2022-03-18 |\n",
      "|  2 | nan          | MIXED       | 1940-07-17      | I     |     3 | 2008-07-25   | 2022-03-19 |\n",
      "|  3 | 2009-08-29   | ASIAN       | 1940-07-18      | M     |     4 | 2008-07-26   | 2022-03-20 |\n",
      "|  4 | nan          | BLACK       | 1940-07-19      | F     |     5 | 2008-07-27   | 2022-03-21 |\n",
      "|  5 | nan          | MISSING     | 1940-07-20      | I     |   nan | 2008-07-28   | 2022-03-22 |\n",
      "+----+--------------+-------------+-----------------+-------+-------+--------------+------------+\n"
     ]
    }
   ],
   "source": [
    "static_contents = pd.read_csv(cwd + \"/../data/baseline/static_data.csv\")\n",
    "\n",
    "print(tabulate(static_contents.iloc[:,0:5].head(6), headers='keys', tablefmt='psql'))\n",
    "print(tabulate(static_contents.iloc[:,5:].head(6), headers='keys', tablefmt='psql'))\n"
   ]
  },
  {
   "cell_type": "markdown",
   "id": "613f14cd-0251-406c-b5ab-ce24917bf2e7",
   "metadata": {},
   "source": [
    "# Non-valued events"
   ]
  },
  {
   "cell_type": "markdown",
   "id": "82114d83-2652-4113-bc90-51ef8dcf831a",
   "metadata": {},
   "source": [
    "We now inspect the structure of the `diagnoses` folder contents."
   ]
  },
  {
   "cell_type": "code",
   "execution_count": 4,
   "id": "ebd3dcfc-011b-48bd-8a61-4f1caa1afe55",
   "metadata": {},
   "outputs": [
    {
     "name": "stdout",
     "output_type": "stream",
     "text": [
      "+----+-----------------------+-----------------+--------------+--------------+---------------------------+\n",
      "|    | PRACTICE_PATIENT_ID   | YEAR_OF_BIRTH   | DEATH_DATE   | BD_MEDI:AF   |   BD_MEDI:STROKE_HAEMRGIC |\n",
      "|----+-----------------------+-----------------+--------------+--------------+---------------------------|\n",
      "|  0 | p20960_1              | 1940-07-15      | 2009-08-01   | nan          |                       nan |\n",
      "|  1 | p20960_2              | 1940-07-16      | 2009-08-01   | nan          |                       nan |\n",
      "|  2 | p20960_3              | 1940-07-17      | 2009-08-03   | nan          |                       nan |\n",
      "|  3 | p20960_4              | 1940-07-18      | 2009-08-04   | 1992-06-12   |                       nan |\n",
      "|  4 | P20960_5              | 1940-07-19      | 2009-08-05   | nan          |                       nan |\n",
      "+----+-----------------------+-----------------+--------------+--------------+---------------------------+\n"
     ]
    }
   ],
   "source": [
    "nv_event_contents = pd.read_csv(cwd + \"/../data/diagnoses/diagnosis_data.csv\")\n",
    "\n",
    "# Take only the first 5 columns (cutting out additional events)\n",
    "print(tabulate(nv_event_contents.iloc[:,0:5].head(), headers='keys', tablefmt='psql'))\n",
    "\n"
   ]
  },
  {
   "cell_type": "markdown",
   "id": "50467601-9c0e-4a7a-8f82-f690042a3c1e",
   "metadata": {},
   "source": [
    "We see many column names. Columns beginning with the prefix \"BD_MEDI:\" are marked as events, and the column rows contain a date if they were observed.\n",
    "\n",
    "Death is also included as a column, as this is an event."
   ]
  },
  {
   "cell_type": "code",
   "execution_count": 5,
   "id": "4334a7ec-c7de-4068-af4a-10c1ead004a7",
   "metadata": {},
   "outputs": [
    {
     "name": "stdout",
     "output_type": "stream",
     "text": [
      "Index(['PRACTICE_PATIENT_ID', 'YEAR_OF_BIRTH', 'DEATH_DATE', 'BD_MEDI:AF',\n",
      "       'BD_MEDI:STROKE_HAEMRGIC', 'BD_MEDI:HYPERTENSION',\n",
      "       'BD_MEDI:MINFARCTION', 'BD_MEDI:PAD_STRICT', 'BD_MEDI:TYPE1DM',\n",
      "       'BD_MEDI:TYPE2DIABETES', 'BD_MEDI:CKDSTAGE3TO5', 'BD_MEDI:DEPRESSION',\n",
      "       'BD_MEDI:ANXIETY', 'BD_MEDI:BIPOLAR', 'BD_MEDI:EATINGDISORDERS',\n",
      "       'BD_MEDI:AUTISM', 'BD_MEDI:SUBSTANCEMISUSE',\n",
      "       'BD_MEDI:CHRONIC_LIVER_DISEASE_ALCOHOL',\n",
      "       'BD_MEDI:OTHER_CHRONIC_LIVER_DISEASE_OPTIMAL',\n",
      "       'BD_MEDI:ULCERATIVE_COLITIS'],\n",
      "      dtype='object')\n"
     ]
    }
   ],
   "source": [
    "print(nv_event_contents.columns[:20])"
   ]
  },
  {
   "cell_type": "markdown",
   "id": "f431bc60-f9e7-4b27-a0a5-f4f170f76a9f",
   "metadata": {},
   "source": [
    "# Valued-events (or events which require their own database table)"
   ]
  },
  {
   "cell_type": "code",
   "execution_count": 6,
   "id": "c928fd9c-0834-44e3-a7c4-2e773f871129",
   "metadata": {},
   "outputs": [],
   "source": [
    "# TODO: print relevant docstrings"
   ]
  },
  {
   "cell_type": "markdown",
   "id": "1e849c4d-f8ab-4fab-bf0b-a0915bfe328e",
   "metadata": {},
   "source": [
    "We now inspect the structure of the `timeseries` parent folder contents."
   ]
  },
  {
   "cell_type": "code",
   "execution_count": 9,
   "id": "7e89de9d-a08f-4269-b677-4fa1f38f54c5",
   "metadata": {},
   "outputs": [],
   "source": [
    "# v_event_contents = pd.read_csv(cwd + \"/../data/timeseries/measurement_tests_medications/Serum_folate_80.csv\")\n",
    "# print(v_event_contents.head())"
   ]
  },
  {
   "cell_type": "code",
   "execution_count": null,
   "id": "e76d6efa-c4d8-4c2a-ad2b-6747a169c5e4",
   "metadata": {},
   "outputs": [],
   "source": []
  }
 ],
 "metadata": {
  "kernelspec": {
   "display_name": "Python 3 (ipykernel)",
   "language": "python",
   "name": "python3"
  },
  "language_info": {
   "codemirror_mode": {
    "name": "ipython",
    "version": 3
   },
   "file_extension": ".py",
   "mimetype": "text/x-python",
   "name": "python",
   "nbconvert_exporter": "python",
   "pygments_lexer": "ipython3",
   "version": "3.10.4"
  }
 },
 "nbformat": 4,
 "nbformat_minor": 5
}
