{
 "cells": [
  {
   "cell_type": "markdown",
   "id": "e957caa1-ab33-4fc5-ac21-669e3a13ea17",
   "metadata": {},
   "source": [
    "# Notebook: Indexing on an event"
   ]
  },
  {
   "cell_type": "code",
   "execution_count": 1,
   "id": "0198058d-1ed3-4072-b73a-898ba2ca29cf",
   "metadata": {},
   "outputs": [
    {
     "name": "stdout",
     "output_type": "stream",
     "text": [
      "Using device: cpu.\n",
      "/home/ubuntu/Documents/GitHub/SurvivEHR/FastEHR/examples/3_build_fine_tuning_datasets/1_indexing\n"
     ]
    }
   ],
   "source": [
    "import os\n",
    "import sys\n",
    "from pathlib import Path\n",
    "import logging\n",
    "import torch\n",
    "\n",
    "from FastEHR.dataloader import FoundationalDataModule, index_inclusion_method\n",
    "from example_wrappers import t2d_inclusion_method\n",
    "\n",
    "torch.manual_seed(1337)\n",
    "\n",
    "logging.basicConfig(level=logging.INFO)\n",
    "device = 'cuda' if torch.cuda.is_available() else 'cpu'\n",
    "\n",
    "print(f\"Using device: {device}.\")\n",
    "!pwd\n",
    "%load_ext autoreload\n",
    "%autoreload 2"
   ]
  },
  {
   "cell_type": "markdown",
   "id": "94275aaf-87ce-4580-98cd-48a57aa81e99",
   "metadata": {},
   "source": [
    "## Example for creating a supervised dataset indexed on T2D with Hypertension outcomes"
   ]
  },
  {
   "cell_type": "code",
   "execution_count": 2,
   "id": "0cefa376-0876-4f9c-93f8-f0d0a35d34a5",
   "metadata": {},
   "outputs": [
    {
     "name": "stdout",
     "output_type": "stream",
     "text": [
      "None\n"
     ]
    }
   ],
   "source": [
    "print(t2d_inclusion_method.__doc__)"
   ]
  },
  {
   "cell_type": "code",
   "execution_count": 3,
   "id": "eeb43837-c7da-46bb-8cb8-97bcf6e70173",
   "metadata": {},
   "outputs": [
    {
     "name": "stderr",
     "output_type": "stream",
     "text": [
      "INFO:root:Creating unsupervised collator for DataModule\n",
      "INFO:root:Building Polars datasets and saving to ../../data/_built/indexed_datasets/T2D_hypertension/\n",
      "INFO:root:Using train/test/val splits from ../../data/_built/dataset/practice_id_splits.pickle\n",
      "INFO:root:Processing test split...\n",
      "Thread generating parquet for 1 practices: 100%|██| 1/1 [00:00<00:00, 19.69it/s]\n",
      "INFO:root:Created dataset at ../../data/_built/indexed_datasets/T2D_hypertension/split=test with 0 number of samples\n",
      "Getting file row counts. This allows the creation of an index to file map, increasing read efficiency: 0it [00:00, ?it/s]\n",
      "INFO:root:\t Obtained with a total of 0 samples\n",
      "INFO:root:Processing train split...\n",
      "Thread generating parquet for 18 practices: 100%|█| 18/18 [00:00<00:00, 32.04it/\n",
      "INFO:root:Created dataset at ../../data/_built/indexed_datasets/T2D_hypertension/split=train with 0 number of samples\n",
      "Getting file row counts. This allows the creation of an index to file map, increasing read efficiency: 1it [00:00, 1045.18it/s]\n",
      "INFO:root:\t Obtained with a total of 2 samples\n",
      "INFO:root:Processing val split...\n",
      "Thread generating parquet for 1 practices: 100%|██| 1/1 [00:00<00:00, 28.52it/s]\n",
      "INFO:root:Created dataset at ../../data/_built/indexed_datasets/T2D_hypertension/split=val with 0 number of samples\n",
      "Getting file row counts. This allows the creation of an index to file map, increasing read efficiency: 0it [00:00, ?it/s]\n",
      "INFO:root:\t Obtained with a total of 0 samples\n",
      "INFO:root:Using meta information from ../../data/_built/dataset/meta_information.pickle\n",
      "INFO:root:Using train file-row count dictionary from ../../data/_built/indexed_datasets/T2D_hypertension/file_row_count_dict_train.pickle\n",
      "INFO:root:Using test file-row count dictionary from ../../data/_built/indexed_datasets/T2D_hypertension/file_row_count_dict_test.pickle\n",
      "INFO:root:Using val file-row count dictionary from ../../data/_built/indexed_datasets/T2D_hypertension/file_row_count_dict_val.pickle\n",
      "INFO:root:Tokenzier created based on 125 tokens\n",
      "INFO:root:Using tabular tokenizer, created from meta information and containing 14 tokens\n",
      "INFO:root:Set seed to 8\n",
      "INFO:root:Loaded ../../data/_built/indexed_datasets/T2D_hypertension/split=train/ dataset, with 1 subsamples out of 2\n",
      "INFO:root:Set seed to 42\n",
      "INFO:root:Loaded ../../data/_built/indexed_datasets/T2D_hypertension/split=test/ dataset, with 0 samples\n",
      "INFO:root:Set seed to 42\n",
      "INFO:root:Loaded ../../data/_built/indexed_datasets/T2D_hypertension/split=val/ dataset, with 0 samples\n"
     ]
    }
   ],
   "source": [
    "# Build \n",
    "dm = FoundationalDataModule(path_to_db=\"../../data/_built/example_database.db\",\n",
    "                            path_to_ds=\"../../data/_built/indexed_datasets/T2D_hypertension/\",\n",
    "                            load=False,\n",
    "                            include_diagnoses=True,\n",
    "                            include_measurements=True,\n",
    "                            drop_missing_data=False,\n",
    "                            drop_empty_dynamic=True,\n",
    "                            tokenizer=\"tabular\",\n",
    "                            overwrite_practice_ids = \"../../data/_built/dataset/practice_id_splits.pickle\",\n",
    "                            overwrite_meta_information=\"../../data/_built/dataset/meta_information.pickle\",\n",
    "                            study_inclusion_method=t2d_inclusion_method(outcomes=[\"HYPERTENSION\"]),\n",
    "                            # num_threads=1\n",
    "                           )"
   ]
  },
  {
   "cell_type": "markdown",
   "id": "97ca48d4-2312-4ac2-b684-53edf02ab022",
   "metadata": {},
   "source": [
    "### Meta information\n",
    "\n",
    "When we generated the pre-trained dataset we created a meta information file. This file contained estimated quantiles, event counts, etc for our full dataset. \n",
    "\n",
    "We can choose to create a new meta_information file here by leaving ``overwrite_meta_information`` blank, or re-use the one we have already. This \n",
    "- saves redundant computation, \n",
    "- allows us to retain a persistent (e.g. in the case of fine-tuning)\n",
    "    - standardisation strategy,\n",
    "    - tokenisation strategy"
   ]
  },
  {
   "cell_type": "markdown",
   "id": "b4c80420-3635-45ee-aa65-13cbbd33e1fc",
   "metadata": {},
   "source": [
    "### Other information on setup"
   ]
  },
  {
   "cell_type": "code",
   "execution_count": 4,
   "id": "641ca07b-6448-4c9f-bea2-7a0cb9961953",
   "metadata": {},
   "outputs": [],
   "source": [
    "#TODO ADD"
   ]
  },
  {
   "cell_type": "markdown",
   "id": "2805ad1b-d561-4ef7-a924-0ff0010d62f5",
   "metadata": {},
   "source": [
    "## Datasets\n",
    "\n",
    "We observe that only two sample from our example training set remain. This is because all other samples did not fit the inclusion criteria specified by ``t2d_inclusion_method`` (our example dataset contains only two cases of Type II diabetes).\n",
    "\n",
    "For these two examples, we see one has observed the outcome of interest within the study period, whilst the other did not. Infact, the second patient died before this outcome could be seen. \n",
    "\n",
    "In both cases, the penultimate event is the index event, and the last even is either the first observed specified outcome, or the last observation within the study period. All other events following the index event are removed.\n",
    "\n",
    "We also see that events beginning before the study period are included."
   ]
  },
  {
   "cell_type": "code",
   "execution_count": 5,
   "id": "258474c3-8593-47c8-8d9d-fe4287650d45",
   "metadata": {},
   "outputs": [
    {
     "name": "stdout",
     "output_type": "stream",
     "text": [
      "SEX                 | F\n",
      "IMD                 | 2.0\n",
      "ETHNICITY           | WHITE\n",
      "birth_year          | 1940.0\n",
      "Sequence of 6 events\n",
      "\n",
      "Token                                                                       | Age at event (days)         | Standardized value\n",
      "=============================================================================================================================\n",
      "OTHER_CHRONIC_LIVER_DISEASE_OPTIMAL                                        | 16425.0                       | nan\n",
      "LYMPHOMA_PREVALENCE_V2                                                     | 16425.0                       | nan\n",
      "HAEMOCHROMATOSIS_V2                                                        | 16425.0                       | nan\n",
      "OSTEOPOROSIS                                                               | 16425.0                       | nan\n",
      "TYPE2DIABETES                                                              | 20075.0                       | nan\n",
      "DEATH                                                                      | 23725.0                       | nan\n",
      "=============================================================================================================================\n"
     ]
    }
   ],
   "source": [
    "for dataset in [dm.train_set, dm.val_set, dm.test_set]:\n",
    "    for sample in range(len(dataset)):\n",
    "        dataset.view_sample(sample)"
   ]
  },
  {
   "cell_type": "markdown",
   "id": "becfaa81-2e11-49eb-8fb6-120bbafd6adb",
   "metadata": {},
   "source": []
  }
 ],
 "metadata": {
  "kernelspec": {
   "display_name": "Python 3 (ipykernel)",
   "language": "python",
   "name": "python3"
  },
  "language_info": {
   "codemirror_mode": {
    "name": "ipython",
    "version": 3
   },
   "file_extension": ".py",
   "mimetype": "text/x-python",
   "name": "python",
   "nbconvert_exporter": "python",
   "pygments_lexer": "ipython3",
   "version": "3.10.4"
  }
 },
 "nbformat": 4,
 "nbformat_minor": 5
}
