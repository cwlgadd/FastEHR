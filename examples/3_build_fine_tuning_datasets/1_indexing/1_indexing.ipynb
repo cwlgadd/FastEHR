{
 "cells": [
  {
   "cell_type": "markdown",
   "id": "0556fb70-e482-4e2a-9854-029bccc60ad4",
   "metadata": {},
   "source": [
    "# Notebook: Indexing"
   ]
  },
  {
   "cell_type": "code",
   "execution_count": 12,
   "id": "c2cd6192-831b-41de-8545-f0b6302e5868",
   "metadata": {},
   "outputs": [
    {
     "name": "stdout",
     "output_type": "stream",
     "text": [
      "Using device: cpu.\n",
      "/home/ubuntu/Documents/GitHub/SurvivEHR/FastEHR/examples/3_build_fine_tuning_datasets/1_indexing\n",
      "The autoreload extension is already loaded. To reload it, use:\n",
      "  %reload_ext autoreload\n"
     ]
    }
   ],
   "source": [
    "import os\n",
    "from pathlib import Path\n",
    "import sys\n",
    "import torch\n",
    "import inspect\n",
    "import logging\n",
    "import time\n",
    "\n",
    "from FastEHR.dataloader import FoundationalDataModule, index_inclusion_method\n",
    "\n",
    "torch.manual_seed(1337)\n",
    "\n",
    "logging.basicConfig(level=logging.INFO)\n",
    "device = 'cuda' if torch.cuda.is_available() else 'cpu'\n",
    "# device = \"cpu\"    # if more informative debugging statements are needed\n",
    "print(f\"Using device: {device}.\")\n",
    "\n",
    "\n",
    "!pwd\n",
    "\n",
    "%load_ext autoreload\n",
    "%autoreload 2"
   ]
  },
  {
   "cell_type": "markdown",
   "id": "e6b8ff5b-d17f-47a3-965c-923f0af56b81",
   "metadata": {},
   "source": [
    "## Setting an index date\n",
    "\n",
    "Setting an index date is managed through the ``index_inclusion_method()`` class:"
   ]
  },
  {
   "cell_type": "code",
   "execution_count": 18,
   "id": "f6b00780-21e4-49a1-a5c3-7661b528b17e",
   "metadata": {},
   "outputs": [
    {
     "name": "stdout",
     "output_type": "stream",
     "text": [
      "\n",
      "    Filters a dataset based on indexing criteria, outcomes, and study constraints.\n",
      "\n",
      "    Parameters\n",
      "    ----------\n",
      "    index_on (Union[str, List[str], float, int]):\n",
      "        Defines the indexing criteria:\n",
      "        - If indexing on an event, provide the event name as a string.\n",
      "        - If indexing on multiple events, provide a list of event name strings.\n",
      "        - If indexing by age, provide a float or integer representing age in days.\n",
      "        - When multiple index events exist, the first valid index date is taken.\n",
      "\n",
      "    outcomes (Union[List[str], Callable]):\n",
      "        Specifies the outcomes of interest:\n",
      "        - A list of event names to be used as outcomes.\n",
      "        - A callable object that filters the event column of the dataframe for the desired outcomes.\n",
      "\n",
      "    require_outcome (bool, optional):\n",
      "        Whether the outcome must be observed within the study period constraints.\n",
      "        - If `False`, includes patients who have not yet seen the outcome (e.g., survival analysis).\n",
      "        - If `True`, includes only patients who have observed the outcome, though its value may still be missing.\n",
      "\n",
      "    include_on_events_prior_to_index (Tuple[str, int], optional):\n",
      "        Filters patients based on prior events before the index date.\n",
      "        - The first element is a string indicating the event token.\n",
      "        - The second element is an integer representing the number of days before the index event.\n",
      "        - Example: If studying medication effects post-diagnosis, you may include only those diagnosed 60 days before medication.\n",
      "\n",
      "    exclude_on_events_prior_to_index (List[str], optional):\n",
      "        Excludes patients based on events occurring before the index date.\n",
      "        - Example 1: If studying the initiation of a medication, patients already on the medication may be excluded.\n",
      "\n",
      "    exclude_on_events (List[str], optional):\n",
      "        Excludes patients based on whether they have experienced an event at any time.\n",
      "        - Example: If studying Type II diabetes, patients with a Type I diabetes diagnosis may be excluded.\n",
      "\n",
      "    study_period (List[str], optional):\n",
      "        Defines the study period in the format `[\"yyyy-mm-dd\", \"yyyy-mm-dd\"]` in chronological order.\n",
      "        - The start of the study period does not determine the start of observations but contributes to defining the indexing period.\n",
      "        - The study end date marks the end of observations.\n",
      "\n",
      "    age_at_entry_range (List[int], optional):\n",
      "        Defines the allowable age range for cohort entry in years `[min_age, max_age]`.\n",
      "\n",
      "    min_registered_years (int, optional):\n",
      "        The minimum number of years a patient must be registered at the practice for inclusion at cohort entry.\n",
      "\n",
      "    min_events (int, optional):\n",
      "        The minimum number of events a patient must have experienced (up to and including the index event) to be included in the study.\n",
      "\n",
      "    Notes:\n",
      "    - This function is executed on a per-practice basis, so there is no concern about overlapping `PATIENT_ID` values.\n",
      "\n",
      "    \n"
     ]
    }
   ],
   "source": [
    "print(index_inclusion_method.__doc__)"
   ]
  },
  {
   "cell_type": "markdown",
   "id": "6825f130-e520-403b-8248-b7a46ef593f9",
   "metadata": {},
   "source": [
    "## Wrapping ``index_inclusion_method``"
   ]
  },
  {
   "cell_type": "code",
   "execution_count": null,
   "id": "15940c45-bb5a-467b-9994-33becb3e396b",
   "metadata": {},
   "outputs": [],
   "source": []
  },
  {
   "cell_type": "code",
   "execution_count": null,
   "id": "a223e55b-9844-4846-bc9a-7df1bf343063",
   "metadata": {},
   "outputs": [],
   "source": []
  }
 ],
 "metadata": {
  "kernelspec": {
   "display_name": "Python 3 (ipykernel)",
   "language": "python",
   "name": "python3"
  },
  "language_info": {
   "codemirror_mode": {
    "name": "ipython",
    "version": 3
   },
   "file_extension": ".py",
   "mimetype": "text/x-python",
   "name": "python",
   "nbconvert_exporter": "python",
   "pygments_lexer": "ipython3",
   "version": "3.10.4"
  }
 },
 "nbformat": 4,
 "nbformat_minor": 5
}
